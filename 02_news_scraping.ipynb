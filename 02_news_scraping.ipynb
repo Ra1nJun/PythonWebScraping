{
 "cells": [
  {
   "cell_type": "code",
   "execution_count": 1,
   "id": "51d75e96",
   "metadata": {},
   "outputs": [],
   "source": [
    "import requests\n",
    "from bs4 import BeautifulSoup\n",
    "from urllib.parse import urljoin\n",
    "from IPython.display import Image, display"
   ]
  },
  {
   "cell_type": "code",
   "execution_count": null,
   "id": "d3e809d6",
   "metadata": {},
   "outputs": [
    {
     "name": "stdout",
     "output_type": "stream",
     "text": [
      "\n",
      "======> https://news.nate.com/section?mid=n0500 세계 <======\n",
      "<class 'requests.models.Response'>\n",
      "200\n"
     ]
    },
    {
     "data": {
      "text/html": [
       "<img src=\"https://thumbnews.nateimg.co.kr/news90///news.nateimg.co.kr/orgImg/ch/2025/04/09/ch_1744198272589_531850_0.jpg\"/>"
      ],
      "text/plain": [
       "<IPython.core.display.Image object>"
      ]
     },
     "metadata": {},
     "output_type": "display_data"
    },
    {
     "name": "stdout",
     "output_type": "stream",
     "text": [
      "https://news.nate.com/view/20250409n38820?mid=n0500\n",
      "일본, 전 국민에 현금 40만∼50만원 지급 추진…왜?\n"
     ]
    },
    {
     "data": {
      "text/html": [
       "<img src=\"https://thumbnews.nateimg.co.kr/news90///news.nateimg.co.kr/orgImg/ns/2025/04/09/NISI20250129_0000067184_web.jpg\"/>"
      ],
      "text/plain": [
       "<IPython.core.display.Image object>"
      ]
     },
     "metadata": {},
     "output_type": "display_data"
    },
    {
     "name": "stdout",
     "output_type": "stream",
     "text": [
      "https://news.nate.com/view/20250409n39320?mid=n0500\n",
      "중국도 미국에 50% 관세 추가…미국 104% 대 중국 84%\n"
     ]
    },
    {
     "data": {
      "text/html": [
       "<img src=\"https://thumbnews.nateimg.co.kr/news90///news.nateimg.co.kr/orgImg/yt/2025/04/09/AKR20250409139300009_01_i.jpg\"/>"
      ],
      "text/plain": [
       "<IPython.core.display.Image object>"
      ]
     },
     "metadata": {},
     "output_type": "display_data"
    },
    {
     "name": "stdout",
     "output_type": "stream",
     "text": [
      "https://news.nate.com/view/20250409n29647?mid=n0500\n",
      "머스크 이어 동생도 트럼프 관세 책사 비난 가세…\"해고하시라\"\n"
     ]
    },
    {
     "data": {
      "text/html": [
       "<img src=\"https://thumbnews.nateimg.co.kr/news90///news.nateimg.co.kr/orgImg/yt/2025/04/09/AKR20250409122300009_01_i.jpg\"/>"
      ],
      "text/plain": [
       "<IPython.core.display.Image object>"
      ]
     },
     "metadata": {},
     "output_type": "display_data"
    },
    {
     "name": "stdout",
     "output_type": "stream",
     "text": [
      "https://news.nate.com/view/20250409n25880?mid=n0500\n",
      "도미니카공화국 나이트클럽 붕괴 사망자 최소 98명으로 늘어\n"
     ]
    },
    {
     "data": {
      "text/html": [
       "<img src=\"https://thumbnews.nateimg.co.kr/news90///news.nateimg.co.kr/orgImg/ae/2025/04/09/ae_1744177087285_666995_0.png\"/>"
      ],
      "text/plain": [
       "<IPython.core.display.Image object>"
      ]
     },
     "metadata": {},
     "output_type": "display_data"
    },
    {
     "name": "stdout",
     "output_type": "stream",
     "text": [
      "https://news.nate.com/view/20250409n24253?mid=n0500\n",
      "할아버지 또 \"나 때는 말이야\"…다 들어주는 中 요양원 귀요미 정체\n"
     ]
    },
    {
     "data": {
      "text/html": [
       "<img src=\"https://thumbnews.nateimg.co.kr/news90///news.nateimg.co.kr/orgImg/yn/2025/04/09/202504091335089717_t.jpg\"/>"
      ],
      "text/plain": [
       "<IPython.core.display.Image object>"
      ]
     },
     "metadata": {},
     "output_type": "display_data"
    },
    {
     "name": "stdout",
     "output_type": "stream",
     "text": [
      "https://news.nate.com/view/20250409n22113?mid=n0500\n",
      "\"나도 군사 퍼레이드 할래\" 역대급 예산에도 트럼프가 포기 못하는 이유 \n"
     ]
    },
    {
     "data": {
      "text/html": [
       "<img src=\"https://thumbnews.nateimg.co.kr/news90///news.nateimg.co.kr/orgImg/mk/2025/04/09/news-p.v1.20250409.624f73d1ee814e00b451b8d6fc34c7e2_P1.png\"/>"
      ],
      "text/plain": [
       "<IPython.core.display.Image object>"
      ]
     },
     "metadata": {},
     "output_type": "display_data"
    },
    {
     "name": "stdout",
     "output_type": "stream",
     "text": [
      "https://news.nate.com/view/20250409n13110?mid=n0500\n",
      "\"중국인이네? 미국서 당장 나가\"…일방적 추방 공포에 숨 못 쉬는 유학생들\n"
     ]
    },
    {
     "data": {
      "text/html": [
       "<img src=\"https://thumbnews.nateimg.co.kr/news90///news.nateimg.co.kr/orgImg/fn/2025/04/09/202411070630259710_l.jpg\"/>"
      ],
      "text/plain": [
       "<IPython.core.display.Image object>"
      ]
     },
     "metadata": {},
     "output_type": "display_data"
    },
    {
     "name": "stdout",
     "output_type": "stream",
     "text": [
      "https://news.nate.com/view/20250409n02243?mid=n0500\n",
      "\"건네준 국수 먹었다가\"…'강간 공화국' 인도서 벌어진 충격적 사건\n"
     ]
    },
    {
     "data": {
      "text/html": [
       "<img src=\"https://thumbnews.nateimg.co.kr/news90///news.nateimg.co.kr/orgImg/mt/2025/04/09/2025040907532187794_1.jpg\"/>"
      ],
      "text/plain": [
       "<IPython.core.display.Image object>"
      ]
     },
     "metadata": {},
     "output_type": "display_data"
    },
    {
     "name": "stdout",
     "output_type": "stream",
     "text": [
      "https://news.nate.com/view/20250409n05178?mid=n0500\n",
      "젤렌스키 \"러시아군 편에서 싸우던 중국인 2명 생포\"\n"
     ]
    },
    {
     "data": {
      "text/html": [
       "<img src=\"https://thumbnews.nateimg.co.kr/news90///news.nateimg.co.kr/orgImg/ch/2025/04/09/ch_1744146500228_81027_0.jpg\"/>"
      ],
      "text/plain": [
       "<IPython.core.display.Image object>"
      ]
     },
     "metadata": {},
     "output_type": "display_data"
    },
    {
     "name": "stdout",
     "output_type": "stream",
     "text": [
      "https://news.nate.com/view/20250409n00673?mid=n0500\n",
      "아베의 '절친 전략' 지켜본 이시바, 美와 가장 먼저 협상팀 만들었다\n"
     ]
    }
   ],
   "source": [
    "section_dict = {\n",
    "    '최신뉴스': 'recent?mid=n0100',\n",
    "    '정치': 'section?mid=n0200', \n",
    "    '경제': 'section?mid=n0300',\n",
    "    '사회': 'section?mid=n0400',\n",
    "    '세계': 'section?mid=n0500',\n",
    "    'IT/과학': 'section?mid=n0600'\n",
    "}\n",
    "\n",
    "def print_news(section_name):\n",
    "    section = section_dict.get(section_name)\n",
    "    if section is None:\n",
    "        print(\"요청하신 Key가 없습니다.\")\n",
    "    else:\n",
    "        url = f'https://news.nate.com/{section}'\n",
    "        print(f\"\\n======> {url} {section_name} <======\")\n",
    "        \n",
    "        \n",
    "        req_header = {\n",
    "            'user-agent' : 'Mozilla/5.0 (Windows NT 10.0; Win64; x64) AppleWebKit/537.36 (KHTML, like Gecko) Chrome/134.0.0.0 Safari/537.36'\n",
    "        }\n",
    "\n",
    "        res = requests.get(url, headers=req_header)\n",
    "\n",
    "            \n",
    "        if res.ok:\n",
    "            print(type(res))\n",
    "            print(res.status_code)\n",
    "            \n",
    "            soup = BeautifulSoup(res.text, 'html.parser')\n",
    "                    \n",
    "            news_list = soup.select('div.f_clear div.mlt01 a')\n",
    "            \n",
    "            base_url=\"https:\"\n",
    "\n",
    "            for li_tag in news_list:\n",
    "                ib_tag = li_tag.select_one('span.ib img')\n",
    "                img = urljoin(base_url, ib_tag['src'])\n",
    "                \n",
    "                \n",
    "                link = urljoin(base_url, li_tag['href'])\n",
    "                \n",
    "                tb_tag = li_tag.select_one('span.tb h2.tit')\n",
    "                title = tb_tag.text\n",
    "                \n",
    "                if img is None:\n",
    "                    print(img)\n",
    "                else:\n",
    "                    display(Image(url=img))\n",
    "                print(link)\n",
    "                print(title)\n",
    "                    \n",
    "\n",
    "#함수 테스트\n",
    "print_news('세계')"
   ]
  }
 ],
 "metadata": {
  "kernelspec": {
   "display_name": "base",
   "language": "python",
   "name": "python3"
  },
  "language_info": {
   "codemirror_mode": {
    "name": "ipython",
    "version": 3
   },
   "file_extension": ".py",
   "mimetype": "text/x-python",
   "name": "python",
   "nbconvert_exporter": "python",
   "pygments_lexer": "ipython3",
   "version": "3.12.7"
  }
 },
 "nbformat": 4,
 "nbformat_minor": 5
}
