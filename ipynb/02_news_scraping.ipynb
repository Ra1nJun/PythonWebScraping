{
 "cells": [
  {
   "cell_type": "code",
   "execution_count": 1,
   "id": "51d75e96",
   "metadata": {},
   "outputs": [],
   "source": [
    "import requests\n",
    "from bs4 import BeautifulSoup\n",
    "from urllib.parse import urljoin\n",
    "from IPython.display import Image, display"
   ]
  },
  {
   "cell_type": "code",
   "execution_count": null,
   "id": "d3e809d6",
   "metadata": {},
   "outputs": [],
   "source": [
    "section_dict = {\n",
    "    '최신뉴스': 'recent?mid=n0100',\n",
    "    '정치': 'section?mid=n0200', \n",
    "    '경제': 'section?mid=n0300',\n",
    "    '사회': 'section?mid=n0400',\n",
    "    '세계': 'section?mid=n0500',\n",
    "    'IT/과학': 'section?mid=n0600'\n",
    "}\n",
    "\n",
    "def print_news(section_name):\n",
    "    section = section_dict.get(section_name)\n",
    "    if section is None:\n",
    "        print(\"요청하신 Key가 없습니다.\")\n",
    "    else:\n",
    "        url = f'https://news.nate.com/{section}'\n",
    "        print(f\"\\n======> {url} {section_name} <======\")\n",
    "        \n",
    "        \n",
    "        req_header = {\n",
    "            'user-agent' : 'Mozilla/5.0 (Windows NT 10.0; Win64; x64) AppleWebKit/537.36 (KHTML, like Gecko) Chrome/134.0.0.0 Safari/537.36'\n",
    "        }\n",
    "\n",
    "        res = requests.get(url, headers=req_header)\n",
    "\n",
    "            \n",
    "        if res.ok:\n",
    "            print(type(res))\n",
    "            print(res.status_code)\n",
    "            \n",
    "            soup = BeautifulSoup(res.text, 'html.parser')\n",
    "                    \n",
    "            news_list = soup.select('div.f_clear div.mlt01 a')\n",
    "            \n",
    "            base_url=\"https:\"\n",
    "\n",
    "            for li_tag in news_list:\n",
    "                ib_tag = li_tag.select_one('span.ib img')\n",
    "                img = urljoin(base_url, ib_tag['src'])\n",
    "                \n",
    "                \n",
    "                link = urljoin(base_url, li_tag['href'])\n",
    "                \n",
    "                tb_tag = li_tag.select_one('span.tb h2.tit')\n",
    "                title = tb_tag.text\n",
    "                \n",
    "                if img is None:\n",
    "                    print(img)\n",
    "                else:\n",
    "                    display(Image(url=img))\n",
    "                print(link)\n",
    "                print(title)\n",
    "                    \n",
    "\n",
    "#함수 테스트\n",
    "print_news('세계')"
   ]
  }
 ],
 "metadata": {
  "kernelspec": {
   "display_name": "base",
   "language": "python",
   "name": "python3"
  },
  "language_info": {
   "codemirror_mode": {
    "name": "ipython",
    "version": 3
   },
   "file_extension": ".py",
   "mimetype": "text/x-python",
   "name": "python",
   "nbconvert_exporter": "python",
   "pygments_lexer": "ipython3",
   "version": "3.12.7"
  }
 },
 "nbformat": 4,
 "nbformat_minor": 5
}
