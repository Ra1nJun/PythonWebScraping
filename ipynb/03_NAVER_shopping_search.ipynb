{
 "cells": [
  {
   "cell_type": "code",
   "execution_count": 2,
   "id": "92dd7a11",
   "metadata": {},
   "outputs": [],
   "source": [
    "import os\n",
    "import requests\n",
    "from dotenv import load_dotenv\n",
    "import json\n",
    "import pandas as pd"
   ]
  },
  {
   "cell_type": "code",
   "execution_count": null,
   "id": "f27e3fc1",
   "metadata": {},
   "outputs": [],
   "source": [
    "load_dotenv()\n",
    "\n",
    "# 환경 변수에서 값 읽기\n",
    "client_id = os.getenv(\"NAVER_CLIENT_ID\")  # .env 파일의 NAVER_CLIENT_ID\n",
    "client_secret = os.getenv(\"NAVER_CLIENT_SECRET\")  # .env 파일의 NAVER_CLIENT_SECRET\n",
    "\n",
    "headers = {\n",
    "    'X-Naver-Client-Id': client_id,\n",
    "    'X-Naver-Client-Secret': client_secret,\n",
    "}\n",
    "\n",
    "# query string 문자열을 dict 선언  \n",
    "def search_shops(query):   \n",
    "    # query string 문자열을 dict 선언\n",
    "    payload = {\n",
    "    'query':  query, #'가디건',\n",
    "    'display': 50,\n",
    "    'sort': 'sim'\n",
    "    }\n",
    "    \n",
    "    url = 'https://openapi.naver.com/v1/search/shop.json'\n",
    "\n",
    "    res = requests.get(url, params=payload, headers=headers)\n",
    "\n",
    "    items_data = res.json()['items']\n",
    "\n",
    "    items_list = list()\n",
    "    for item in items_data:\n",
    "        item_dict={}\n",
    "        item_dict['title'] = item['title']\n",
    "        item_dict['link'] = item['link']\n",
    "        item_dict['image'] = item['image']\n",
    "        item_dict['lprice'] = item['lprice']\n",
    "        item_dict['hprice'] = item['hprice']\n",
    "        item_dict['mallName'] = item['mallName']\n",
    "        item_dict['productId'] = item['productId']\n",
    "        item_dict['productType'] = item['productType']\n",
    "        item_dict['brand'] = item['brand']\n",
    "        item_dict['maker'] = item['maker']\n",
    "        item_dict['category1'] = item['category1']\n",
    "        item_dict['category2'] = item['category2']\n",
    "        item_dict['category3'] = item['category3']\n",
    "        item_dict['category4'] = item['category4']\n",
    "        \n",
    "        items_list.append(item_dict)\n",
    "\n",
    "    with open('shops.json','w',encoding=\"utf-8\")as file:\n",
    "        json.dump(items_list, file)\n",
    "\n",
    "\n",
    "search_shops('가디건')\n",
    "#1. shops.json 파일을 Pandas DataFrame로 저장하기\n",
    "shop_df = pd.read_json('shops.json')\n",
    "#2. 질문 :  검색어로  찾은  Shop의 상품  목록 출력하기\n",
    "display(shop_df)\n",
    "#3. 질문 :  검색어로  찾은  Shop의 상품  목록 중에서 가격이 50,000원 이하인 상품만 출력하기\n",
    "display(shop_df.loc[shop_df['lprice']<=50000, ['brand','lprice','mallName','link']]\\\n",
    "                    .sort_values(by='lprice').reset_index(drop=True))\n",
    "#4. 질문 :  검색어로  찾은  Shop의 상품  목록 중에서 특정 쇼핑몰 상품만 출력하기\n",
    "display(shop_df.loc[shop_df['mallName']=='네이버', 'lprice':'brand'].sort_values(by='lprice').reset_index(drop=True))"
   ]
  }
 ],
 "metadata": {
  "kernelspec": {
   "display_name": "base",
   "language": "python",
   "name": "python3"
  },
  "language_info": {
   "codemirror_mode": {
    "name": "ipython",
    "version": 3
   },
   "file_extension": ".py",
   "mimetype": "text/x-python",
   "name": "python",
   "nbconvert_exporter": "python",
   "pygments_lexer": "ipython3",
   "version": "3.12.7"
  }
 },
 "nbformat": 4,
 "nbformat_minor": 5
}
