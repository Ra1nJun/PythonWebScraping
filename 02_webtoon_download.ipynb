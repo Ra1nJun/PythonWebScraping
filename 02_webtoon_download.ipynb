{
 "cells": [
  {
   "cell_type": "code",
   "execution_count": 9,
   "id": "32df4f38",
   "metadata": {},
   "outputs": [],
   "source": [
    "import requests\n",
    "import os\n",
    "from bs4 import BeautifulSoup"
   ]
  },
  {
   "cell_type": "code",
   "execution_count": null,
   "id": "4bbb76c8",
   "metadata": {},
   "outputs": [],
   "source": [
    "\n",
    "def download_one_episode(title, no, url):\n",
    "    req_header = {\n",
    "        'referer' : url\n",
    "    }\n",
    "\n",
    "    res = requests.get(url, headers=req_header)\n",
    "        \n",
    "    if res.ok:\n",
    "        soup = BeautifulSoup(res.text, 'html.parser')\n",
    "        img_tags = soup.select(\"img[src*='IMAG01']\")\n",
    "        \n",
    "        img_url_list = list()\n",
    "        for img_tag in img_tags:\n",
    "            img_url_list.append(img_tag['src'])\n",
    "            \n",
    "        print(len(img_url_list), img_url_list[:5])\n",
    "        \n",
    "        imgdir_name=f'img/{title}/{no}'\n",
    "        if not os.path.isdir(imgdir_name):\n",
    "            os.makedirs(imgdir_name)\n",
    "        \n",
    "            \n",
    "        for img_url in img_url_list:\n",
    "            img_data = res.content\n",
    "            file_path = os.path.join(imgdir_name, os.path.basename(img_url))\n",
    "            \n",
    "            with open(file_path,'wb') as file:\n",
    "                print(f'Writing to {file_path}({len(img_data):,} bytes)')\n",
    "                file.write(img_data)\n",
    "            \n",
    "    else:\n",
    "        print(f'Error Code = {res.status_code}')\n",
    "\n",
    "#함수 테스트\n",
    "download_one_episode('전지적 독자 시점', 251, 'https://comic.naver.com/webtoon/detail?titleId=747269&no=252&week=wed')"
   ]
  }
 ],
 "metadata": {
  "kernelspec": {
   "display_name": "base",
   "language": "python",
   "name": "python3"
  },
  "language_info": {
   "codemirror_mode": {
    "name": "ipython",
    "version": 3
   },
   "file_extension": ".py",
   "mimetype": "text/x-python",
   "name": "python",
   "nbconvert_exporter": "python",
   "pygments_lexer": "ipython3",
   "version": "3.12.7"
  }
 },
 "nbformat": 4,
 "nbformat_minor": 5
}
