{
 "cells": [
  {
   "cell_type": "code",
   "execution_count": 1,
   "id": "2d0d10da",
   "metadata": {},
   "outputs": [],
   "source": [
    "import requests\n",
    "from bs4 import BeautifulSoup"
   ]
  },
  {
   "cell_type": "code",
   "execution_count": null,
   "id": "d37340d0",
   "metadata": {},
   "outputs": [],
   "source": [
    "url = 'https://news.daum.net/economy'\n",
    "\n",
    "response = requests.get(url)\n",
    "response.encoding = 'utf-8'\n",
    "response.raise_for_status()\n",
    "\n",
    "print(url)\n",
    "print(type(response))\n",
    "print(response.status_code)\n",
    "\n",
    "soup = BeautifulSoup(response.text, 'html.parser')\n",
    "\n",
    "news_list = soup.select('ul.list_newsheadline2 li')\n",
    "print(type(news_list), len(news_list))\n",
    "\n",
    "for li_tag in news_list:\n",
    "    # 링크 추출\n",
    "    a_tag = li_tag.find('a')\n",
    "    link = a_tag['href']\n",
    "    \n",
    "    # 제목 추출\n",
    "    strong_tag = li_tag.select_one('div.cont_thumb strong.tit_txt')\n",
    "    title = strong_tag.text.strip()\n",
    "    \n",
    "    print(link)\n",
    "    print(title)"
   ]
  },
  {
   "cell_type": "code",
   "execution_count": null,
   "id": "f53bdf69",
   "metadata": {},
   "outputs": [],
   "source": [
    "section_dict = {\n",
    "    '홈': 'home',\n",
    "    '기후/환경': 'climate',\n",
    "    '사회': 'society', \n",
    "    '경제': 'economy',\n",
    "    '정치': 'politics',\n",
    "    '국제': 'world',\n",
    "    '문화': 'culture',\n",
    "    '생활': 'life',\n",
    "    'IT/과학': 'tech',\n",
    "    '인물': 'people'\n",
    "}\n",
    "\n",
    "def print_news(section_name):\n",
    "    section = section_dict.get(section_name)\n",
    "    \n",
    "    url = f'https://news.daum.net/{section}'\n",
    "    print(f\"\\n======> {url} {section_name} 뉴스 <======\")\n",
    "    \n",
    "    response = requests.get(url)\n",
    "    response.encoding = 'utf-8'\n",
    "    response.raise_for_status()\n",
    "        \n",
    "    soup = BeautifulSoup(response.text, 'html.parser')\n",
    "        \n",
    "    news_list = soup.select('ul.list_newsheadline2 li')\n",
    "        \n",
    "    for li_tag in news_list:\n",
    "        a_tag = li_tag.find('a')\n",
    "        if not a_tag:\n",
    "            continue\n",
    "               \n",
    "        link = a_tag['href']\n",
    "            \n",
    "        strong_tag = li_tag.select_one('div.cont_thumb strong.tit_txt')\n",
    "        if not strong_tag:\n",
    "            continue\n",
    "                \n",
    "        title = strong_tag.text.strip()\n",
    "            \n",
    "        print(link)\n",
    "        print(title)\n",
    "            \n",
    "\n",
    "# 함수 테스트\n",
    "print_news('경제')\n",
    "print_news('사회')"
   ]
  }
 ],
 "metadata": {
  "kernelspec": {
   "display_name": "base",
   "language": "python",
   "name": "python3"
  },
  "language_info": {
   "codemirror_mode": {
    "name": "ipython",
    "version": 3
   },
   "file_extension": ".py",
   "mimetype": "text/x-python",
   "name": "python",
   "nbconvert_exporter": "python",
   "pygments_lexer": "ipython3",
   "version": "3.12.7"
  }
 },
 "nbformat": 4,
 "nbformat_minor": 5
}
